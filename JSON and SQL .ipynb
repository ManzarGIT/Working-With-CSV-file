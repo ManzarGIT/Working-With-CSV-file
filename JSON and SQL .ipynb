{
 "cells": [
  {
   "cell_type": "code",
   "execution_count": 5,
   "id": "ca983ed6-c687-455d-abd0-c128e0f7bca2",
   "metadata": {},
   "outputs": [],
   "source": [
    "import numpy as np \n",
    "import pandas as pd "
   ]
  },
  {
   "cell_type": "code",
   "execution_count": 51,
   "id": "2200d4b5-cbce-4910-9cd4-e26a43c34754",
   "metadata": {},
   "outputs": [
    {
     "data": {
      "text/html": [
       "<div>\n",
       "<style scoped>\n",
       "    .dataframe tbody tr th:only-of-type {\n",
       "        vertical-align: middle;\n",
       "    }\n",
       "\n",
       "    .dataframe tbody tr th {\n",
       "        vertical-align: top;\n",
       "    }\n",
       "\n",
       "    .dataframe thead th {\n",
       "        text-align: right;\n",
       "    }\n",
       "</style>\n",
       "<table border=\"1\" class=\"dataframe\">\n",
       "  <thead>\n",
       "    <tr style=\"text-align: right;\">\n",
       "      <th></th>\n",
       "      <th>id</th>\n",
       "      <th>cuisine</th>\n",
       "      <th>ingredients</th>\n",
       "    </tr>\n",
       "  </thead>\n",
       "  <tbody>\n",
       "    <tr>\n",
       "      <th>0</th>\n",
       "      <td>10259</td>\n",
       "      <td>greek</td>\n",
       "      <td>[romaine lettuce, black olives, grape tomatoes...</td>\n",
       "    </tr>\n",
       "    <tr>\n",
       "      <th>1</th>\n",
       "      <td>25693</td>\n",
       "      <td>southern_us</td>\n",
       "      <td>[plain flour, ground pepper, salt, tomatoes, g...</td>\n",
       "    </tr>\n",
       "    <tr>\n",
       "      <th>2</th>\n",
       "      <td>20130</td>\n",
       "      <td>filipino</td>\n",
       "      <td>[eggs, pepper, salt, mayonaise, cooking oil, g...</td>\n",
       "    </tr>\n",
       "    <tr>\n",
       "      <th>3</th>\n",
       "      <td>22213</td>\n",
       "      <td>indian</td>\n",
       "      <td>[water, vegetable oil, wheat, salt]</td>\n",
       "    </tr>\n",
       "    <tr>\n",
       "      <th>4</th>\n",
       "      <td>13162</td>\n",
       "      <td>indian</td>\n",
       "      <td>[black pepper, shallots, cornflour, cayenne pe...</td>\n",
       "    </tr>\n",
       "  </tbody>\n",
       "</table>\n",
       "</div>"
      ],
      "text/plain": [
       "      id      cuisine                                        ingredients\n",
       "0  10259        greek  [romaine lettuce, black olives, grape tomatoes...\n",
       "1  25693  southern_us  [plain flour, ground pepper, salt, tomatoes, g...\n",
       "2  20130     filipino  [eggs, pepper, salt, mayonaise, cooking oil, g...\n",
       "3  22213       indian                [water, vegetable oil, wheat, salt]\n",
       "4  13162       indian  [black pepper, shallots, cornflour, cayenne pe..."
      ]
     },
     "execution_count": 51,
     "metadata": {},
     "output_type": "execute_result"
    }
   ],
   "source": [
    "pd.read_json('train.json').head()"
   ]
  },
  {
   "cell_type": "markdown",
   "id": "35d01bfe-c723-40f7-8885-6938a4719635",
   "metadata": {},
   "source": [
    "# read json from link(https://api.exchangerate-api.com/v4/latest/INR)"
   ]
  },
  {
   "cell_type": "code",
   "execution_count": 52,
   "id": "6a1c6ab3-f89c-4497-88ae-c8e1e1a3b622",
   "metadata": {},
   "outputs": [
    {
     "data": {
      "text/html": [
       "<div>\n",
       "<style scoped>\n",
       "    .dataframe tbody tr th:only-of-type {\n",
       "        vertical-align: middle;\n",
       "    }\n",
       "\n",
       "    .dataframe tbody tr th {\n",
       "        vertical-align: top;\n",
       "    }\n",
       "\n",
       "    .dataframe thead th {\n",
       "        text-align: right;\n",
       "    }\n",
       "</style>\n",
       "<table border=\"1\" class=\"dataframe\">\n",
       "  <thead>\n",
       "    <tr style=\"text-align: right;\">\n",
       "      <th></th>\n",
       "      <th>provider</th>\n",
       "      <th>WARNING_UPGRADE_TO_V6</th>\n",
       "      <th>terms</th>\n",
       "      <th>base</th>\n",
       "      <th>date</th>\n",
       "      <th>time_last_updated</th>\n",
       "      <th>rates</th>\n",
       "    </tr>\n",
       "  </thead>\n",
       "  <tbody>\n",
       "    <tr>\n",
       "      <th>INR</th>\n",
       "      <td>https://www.exchangerate-api.com</td>\n",
       "      <td>https://www.exchangerate-api.com/docs/free</td>\n",
       "      <td>https://www.exchangerate-api.com/terms</td>\n",
       "      <td>INR</td>\n",
       "      <td>2025-08-09</td>\n",
       "      <td>1754697601</td>\n",
       "      <td>1.0000</td>\n",
       "    </tr>\n",
       "    <tr>\n",
       "      <th>AED</th>\n",
       "      <td>https://www.exchangerate-api.com</td>\n",
       "      <td>https://www.exchangerate-api.com/docs/free</td>\n",
       "      <td>https://www.exchangerate-api.com/terms</td>\n",
       "      <td>INR</td>\n",
       "      <td>2025-08-09</td>\n",
       "      <td>1754697601</td>\n",
       "      <td>0.0419</td>\n",
       "    </tr>\n",
       "    <tr>\n",
       "      <th>AFN</th>\n",
       "      <td>https://www.exchangerate-api.com</td>\n",
       "      <td>https://www.exchangerate-api.com/docs/free</td>\n",
       "      <td>https://www.exchangerate-api.com/terms</td>\n",
       "      <td>INR</td>\n",
       "      <td>2025-08-09</td>\n",
       "      <td>1754697601</td>\n",
       "      <td>0.7840</td>\n",
       "    </tr>\n",
       "    <tr>\n",
       "      <th>ALL</th>\n",
       "      <td>https://www.exchangerate-api.com</td>\n",
       "      <td>https://www.exchangerate-api.com/docs/free</td>\n",
       "      <td>https://www.exchangerate-api.com/terms</td>\n",
       "      <td>INR</td>\n",
       "      <td>2025-08-09</td>\n",
       "      <td>1754697601</td>\n",
       "      <td>0.9520</td>\n",
       "    </tr>\n",
       "    <tr>\n",
       "      <th>AMD</th>\n",
       "      <td>https://www.exchangerate-api.com</td>\n",
       "      <td>https://www.exchangerate-api.com/docs/free</td>\n",
       "      <td>https://www.exchangerate-api.com/terms</td>\n",
       "      <td>INR</td>\n",
       "      <td>2025-08-09</td>\n",
       "      <td>1754697601</td>\n",
       "      <td>4.3800</td>\n",
       "    </tr>\n",
       "  </tbody>\n",
       "</table>\n",
       "</div>"
      ],
      "text/plain": [
       "                             provider  \\\n",
       "INR  https://www.exchangerate-api.com   \n",
       "AED  https://www.exchangerate-api.com   \n",
       "AFN  https://www.exchangerate-api.com   \n",
       "ALL  https://www.exchangerate-api.com   \n",
       "AMD  https://www.exchangerate-api.com   \n",
       "\n",
       "                          WARNING_UPGRADE_TO_V6  \\\n",
       "INR  https://www.exchangerate-api.com/docs/free   \n",
       "AED  https://www.exchangerate-api.com/docs/free   \n",
       "AFN  https://www.exchangerate-api.com/docs/free   \n",
       "ALL  https://www.exchangerate-api.com/docs/free   \n",
       "AMD  https://www.exchangerate-api.com/docs/free   \n",
       "\n",
       "                                      terms base       date  \\\n",
       "INR  https://www.exchangerate-api.com/terms  INR 2025-08-09   \n",
       "AED  https://www.exchangerate-api.com/terms  INR 2025-08-09   \n",
       "AFN  https://www.exchangerate-api.com/terms  INR 2025-08-09   \n",
       "ALL  https://www.exchangerate-api.com/terms  INR 2025-08-09   \n",
       "AMD  https://www.exchangerate-api.com/terms  INR 2025-08-09   \n",
       "\n",
       "     time_last_updated   rates  \n",
       "INR         1754697601  1.0000  \n",
       "AED         1754697601  0.0419  \n",
       "AFN         1754697601  0.7840  \n",
       "ALL         1754697601  0.9520  \n",
       "AMD         1754697601  4.3800  "
      ]
     },
     "execution_count": 52,
     "metadata": {},
     "output_type": "execute_result"
    }
   ],
   "source": [
    "pd.read_json('https://api.exchangerate-api.com/v4/latest/INR').head()"
   ]
  },
  {
   "cell_type": "markdown",
   "id": "30215281-d426-4596-8b1f-35ae3ac24acd",
   "metadata": {},
   "source": [
    "# working SQL file "
   ]
  },
  {
   "cell_type": "code",
   "execution_count": 53,
   "id": "997d0fd3-ef0b-41ac-9335-ea960500e101",
   "metadata": {},
   "outputs": [
    {
     "name": "stdout",
     "output_type": "stream",
     "text": [
      "Requirement already satisfied: mysql.connector in c:\\users\\md manzar\\anaconda3\\lib\\site-packages (2.2.9)\n"
     ]
    }
   ],
   "source": [
    "!pip install mysql.connector"
   ]
  },
  {
   "cell_type": "code",
   "execution_count": 2,
   "id": "17b5d0d9-27b9-435f-ae89-e332a41312c0",
   "metadata": {},
   "outputs": [],
   "source": [
    "import mysql.connector "
   ]
  },
  {
   "cell_type": "code",
   "execution_count": 4,
   "id": "5f1912c1-106b-410e-bb47-6e3d236d5e90",
   "metadata": {},
   "outputs": [],
   "source": [
    "conn=mysql.connector.connect(host='localhost',user='root',password='',database='world')"
   ]
  },
  {
   "cell_type": "code",
   "execution_count": 7,
   "id": "c67517c8-4c5f-431c-891d-6099bdd403b6",
   "metadata": {
    "scrolled": true
   },
   "outputs": [
    {
     "name": "stderr",
     "output_type": "stream",
     "text": [
      "C:\\Users\\MD MANZAR\\AppData\\Local\\Temp\\ipykernel_15056\\1806405581.py:1: UserWarning: pandas only supports SQLAlchemy connectable (engine/connection) or database string URI or sqlite3 DBAPI2 connection. Other DBAPI2 objects are not tested. Please consider using SQLAlchemy.\n",
      "  pd.read_sql_query('select * from city',conn)\n"
     ]
    },
    {
     "data": {
      "text/html": [
       "<div>\n",
       "<style scoped>\n",
       "    .dataframe tbody tr th:only-of-type {\n",
       "        vertical-align: middle;\n",
       "    }\n",
       "\n",
       "    .dataframe tbody tr th {\n",
       "        vertical-align: top;\n",
       "    }\n",
       "\n",
       "    .dataframe thead th {\n",
       "        text-align: right;\n",
       "    }\n",
       "</style>\n",
       "<table border=\"1\" class=\"dataframe\">\n",
       "  <thead>\n",
       "    <tr style=\"text-align: right;\">\n",
       "      <th></th>\n",
       "      <th>ID</th>\n",
       "      <th>Name</th>\n",
       "      <th>CountryCode</th>\n",
       "      <th>District</th>\n",
       "      <th>Population</th>\n",
       "    </tr>\n",
       "  </thead>\n",
       "  <tbody>\n",
       "    <tr>\n",
       "      <th>0</th>\n",
       "      <td>1</td>\n",
       "      <td>Kabul</td>\n",
       "      <td>AFG</td>\n",
       "      <td>Kabol</td>\n",
       "      <td>1780000</td>\n",
       "    </tr>\n",
       "    <tr>\n",
       "      <th>1</th>\n",
       "      <td>2</td>\n",
       "      <td>Qandahar</td>\n",
       "      <td>AFG</td>\n",
       "      <td>Qandahar</td>\n",
       "      <td>237500</td>\n",
       "    </tr>\n",
       "    <tr>\n",
       "      <th>2</th>\n",
       "      <td>3</td>\n",
       "      <td>Herat</td>\n",
       "      <td>AFG</td>\n",
       "      <td>Herat</td>\n",
       "      <td>186800</td>\n",
       "    </tr>\n",
       "    <tr>\n",
       "      <th>3</th>\n",
       "      <td>4</td>\n",
       "      <td>Mazar-e-Sharif</td>\n",
       "      <td>AFG</td>\n",
       "      <td>Balkh</td>\n",
       "      <td>127800</td>\n",
       "    </tr>\n",
       "    <tr>\n",
       "      <th>4</th>\n",
       "      <td>5</td>\n",
       "      <td>Amsterdam</td>\n",
       "      <td>NLD</td>\n",
       "      <td>Noord-Holland</td>\n",
       "      <td>731200</td>\n",
       "    </tr>\n",
       "    <tr>\n",
       "      <th>...</th>\n",
       "      <td>...</td>\n",
       "      <td>...</td>\n",
       "      <td>...</td>\n",
       "      <td>...</td>\n",
       "      <td>...</td>\n",
       "    </tr>\n",
       "    <tr>\n",
       "      <th>4074</th>\n",
       "      <td>4075</td>\n",
       "      <td>Khan Yunis</td>\n",
       "      <td>PSE</td>\n",
       "      <td>Khan Yunis</td>\n",
       "      <td>123175</td>\n",
       "    </tr>\n",
       "    <tr>\n",
       "      <th>4075</th>\n",
       "      <td>4076</td>\n",
       "      <td>Hebron</td>\n",
       "      <td>PSE</td>\n",
       "      <td>Hebron</td>\n",
       "      <td>119401</td>\n",
       "    </tr>\n",
       "    <tr>\n",
       "      <th>4076</th>\n",
       "      <td>4077</td>\n",
       "      <td>Jabaliya</td>\n",
       "      <td>PSE</td>\n",
       "      <td>North Gaza</td>\n",
       "      <td>113901</td>\n",
       "    </tr>\n",
       "    <tr>\n",
       "      <th>4077</th>\n",
       "      <td>4078</td>\n",
       "      <td>Nablus</td>\n",
       "      <td>PSE</td>\n",
       "      <td>Nablus</td>\n",
       "      <td>100231</td>\n",
       "    </tr>\n",
       "    <tr>\n",
       "      <th>4078</th>\n",
       "      <td>4079</td>\n",
       "      <td>Rafah</td>\n",
       "      <td>PSE</td>\n",
       "      <td>Rafah</td>\n",
       "      <td>92020</td>\n",
       "    </tr>\n",
       "  </tbody>\n",
       "</table>\n",
       "<p>4079 rows × 5 columns</p>\n",
       "</div>"
      ],
      "text/plain": [
       "        ID            Name CountryCode       District  Population\n",
       "0        1           Kabul         AFG          Kabol     1780000\n",
       "1        2        Qandahar         AFG       Qandahar      237500\n",
       "2        3           Herat         AFG          Herat      186800\n",
       "3        4  Mazar-e-Sharif         AFG          Balkh      127800\n",
       "4        5       Amsterdam         NLD  Noord-Holland      731200\n",
       "...    ...             ...         ...            ...         ...\n",
       "4074  4075      Khan Yunis         PSE     Khan Yunis      123175\n",
       "4075  4076          Hebron         PSE         Hebron      119401\n",
       "4076  4077        Jabaliya         PSE     North Gaza      113901\n",
       "4077  4078          Nablus         PSE         Nablus      100231\n",
       "4078  4079           Rafah         PSE          Rafah       92020\n",
       "\n",
       "[4079 rows x 5 columns]"
      ]
     },
     "execution_count": 7,
     "metadata": {},
     "output_type": "execute_result"
    }
   ],
   "source": [
    "pd.read_sql_query('select * from city',conn)"
   ]
  },
  {
   "cell_type": "code",
   "execution_count": 23,
   "id": "95a750e3-06c1-420e-ae04-8aa64d2666e4",
   "metadata": {},
   "outputs": [
    {
     "name": "stderr",
     "output_type": "stream",
     "text": [
      "C:\\Users\\MD MANZAR\\AppData\\Local\\Temp\\ipykernel_15056\\488661718.py:1: UserWarning: pandas only supports SQLAlchemy connectable (engine/connection) or database string URI or sqlite3 DBAPI2 connection. Other DBAPI2 objects are not tested. Please consider using SQLAlchemy.\n",
      "  pd.read_sql_query('SELECT Name, District FROM city ORDER BY Name ASC',conn).head()\n"
     ]
    },
    {
     "data": {
      "text/html": [
       "<div>\n",
       "<style scoped>\n",
       "    .dataframe tbody tr th:only-of-type {\n",
       "        vertical-align: middle;\n",
       "    }\n",
       "\n",
       "    .dataframe tbody tr th {\n",
       "        vertical-align: top;\n",
       "    }\n",
       "\n",
       "    .dataframe thead th {\n",
       "        text-align: right;\n",
       "    }\n",
       "</style>\n",
       "<table border=\"1\" class=\"dataframe\">\n",
       "  <thead>\n",
       "    <tr style=\"text-align: right;\">\n",
       "      <th></th>\n",
       "      <th>Name</th>\n",
       "      <th>District</th>\n",
       "    </tr>\n",
       "  </thead>\n",
       "  <tbody>\n",
       "    <tr>\n",
       "      <th>0</th>\n",
       "      <td>A Coruña (La Coruña)</td>\n",
       "      <td>Galicia</td>\n",
       "    </tr>\n",
       "    <tr>\n",
       "      <th>1</th>\n",
       "      <td>Aachen</td>\n",
       "      <td>Nordrhein-Westfalen</td>\n",
       "    </tr>\n",
       "    <tr>\n",
       "      <th>2</th>\n",
       "      <td>Aalborg</td>\n",
       "      <td>Nordjylland</td>\n",
       "    </tr>\n",
       "    <tr>\n",
       "      <th>3</th>\n",
       "      <td>Aba</td>\n",
       "      <td>Imo &amp; Abia</td>\n",
       "    </tr>\n",
       "    <tr>\n",
       "      <th>4</th>\n",
       "      <td>Abadan</td>\n",
       "      <td>Khuzestan</td>\n",
       "    </tr>\n",
       "  </tbody>\n",
       "</table>\n",
       "</div>"
      ],
      "text/plain": [
       "                   Name             District\n",
       "0  A Coruña (La Coruña)              Galicia\n",
       "1                Aachen  Nordrhein-Westfalen\n",
       "2               Aalborg          Nordjylland\n",
       "3                   Aba           Imo & Abia\n",
       "4                Abadan            Khuzestan"
      ]
     },
     "execution_count": 23,
     "metadata": {},
     "output_type": "execute_result"
    }
   ],
   "source": [
    "pd.read_sql_query('SELECT Name, District FROM city ORDER BY Name ASC',conn).head()"
   ]
  },
  {
   "cell_type": "markdown",
   "id": "7ea4b0f0-03f1-47f1-a215-4f1987c46d23",
   "metadata": {},
   "source": [
    "# due to warning change in code syntax \n",
    "from--> conn=mysql.connector.connect(host='localhost',user='root',password='',database='world')%%!\n"
   ]
  },
  {
   "cell_type": "code",
   "execution_count": 29,
   "id": "82780be7-8b85-4c0f-ade4-cbbed654ea77",
   "metadata": {},
   "outputs": [],
   "source": [
    "#new syntax \n",
    "from sqlalchemy import create_engine\n",
    "engine = create_engine(\"mysql+mysqlconnector://root:@localhost/world\")"
   ]
  },
  {
   "cell_type": "code",
   "execution_count": 43,
   "id": "d2f15aaa-7a1c-47d3-9d61-127a22a4c518",
   "metadata": {},
   "outputs": [
    {
     "name": "stdout",
     "output_type": "stream",
     "text": [
      "   ID            Name CountryCode       District  Population\n",
      "0   1           Kabul         AFG          Kabol     1780000\n",
      "1   2        Qandahar         AFG       Qandahar      237500\n",
      "2   3           Herat         AFG          Herat      186800\n",
      "3   4  Mazar-e-Sharif         AFG          Balkh      127800\n",
      "4   5       Amsterdam         NLD  Noord-Holland      731200\n"
     ]
    }
   ],
   "source": [
    "df = pd.read_sql_query(\"SELECT * FROM city\", engine)\n",
    "print(df.head())"
   ]
  },
  {
   "cell_type": "code",
   "execution_count": 24,
   "id": "12d41ce1-9dde-4263-9c4b-f4068c823e57",
   "metadata": {},
   "outputs": [
    {
     "name": "stdout",
     "output_type": "stream",
     "text": [
      "   ID            Name CountryCode       District  Population\n",
      "0   1           Kabul         AFG          Kabol     1780000\n",
      "1   2        Qandahar         AFG       Qandahar      237500\n",
      "2   3           Herat         AFG          Herat      186800\n",
      "3   4  Mazar-e-Sharif         AFG          Balkh      127800\n",
      "4   5       Amsterdam         NLD  Noord-Holland      731200\n"
     ]
    }
   ],
   "source": [
    "df2=pd.read_sql_query(\"SELECT * FROM country\", engine)\n",
    "print(df.head())"
   ]
  },
  {
   "cell_type": "code",
   "execution_count": 25,
   "id": "c61b22e1-5dae-4688-b056-228665e745c7",
   "metadata": {},
   "outputs": [
    {
     "name": "stdout",
     "output_type": "stream",
     "text": [
      "   ID            Name CountryCode       District  Population\n",
      "0   1           Kabul         AFG          Kabol     1780000\n",
      "1   2        Qandahar         AFG       Qandahar      237500\n",
      "2   3           Herat         AFG          Herat      186800\n",
      "3   4  Mazar-e-Sharif         AFG          Balkh      127800\n",
      "4   5       Amsterdam         NLD  Noord-Holland      731200\n"
     ]
    }
   ],
   "source": [
    "df3=pd.read_sql_query(\"SELECT * FROM countrylanguage\", engine)\n",
    "print(df.head())"
   ]
  },
  {
   "cell_type": "code",
   "execution_count": 26,
   "id": "3da92d7f-a18e-4a94-9aa1-817804a95593",
   "metadata": {},
   "outputs": [
    {
     "data": {
      "text/plain": [
       "(4079, 5)"
      ]
     },
     "execution_count": 26,
     "metadata": {},
     "output_type": "execute_result"
    }
   ],
   "source": [
    "df.shape"
   ]
  },
  {
   "cell_type": "code",
   "execution_count": 27,
   "id": "c44ce98a-ce40-4cd4-8b3f-2fc87399c323",
   "metadata": {},
   "outputs": [
    {
     "data": {
      "text/plain": [
       "(239, 15)"
      ]
     },
     "execution_count": 27,
     "metadata": {},
     "output_type": "execute_result"
    }
   ],
   "source": [
    "df2.shape"
   ]
  },
  {
   "cell_type": "code",
   "execution_count": 28,
   "id": "50b0abc7-1637-4698-91c2-b5107896d388",
   "metadata": {},
   "outputs": [
    {
     "data": {
      "text/plain": [
       "(984, 4)"
      ]
     },
     "execution_count": 28,
     "metadata": {},
     "output_type": "execute_result"
    }
   ],
   "source": [
    "df3.shape"
   ]
  },
  {
   "cell_type": "code",
   "execution_count": 39,
   "id": "9c2304c7-e2ec-4773-97cb-78e7d37e8d48",
   "metadata": {},
   "outputs": [
    {
     "data": {
      "text/html": [
       "<div>\n",
       "<style scoped>\n",
       "    .dataframe tbody tr th:only-of-type {\n",
       "        vertical-align: middle;\n",
       "    }\n",
       "\n",
       "    .dataframe tbody tr th {\n",
       "        vertical-align: top;\n",
       "    }\n",
       "\n",
       "    .dataframe thead th {\n",
       "        text-align: right;\n",
       "    }\n",
       "</style>\n",
       "<table border=\"1\" class=\"dataframe\">\n",
       "  <thead>\n",
       "    <tr style=\"text-align: right;\">\n",
       "      <th></th>\n",
       "      <th>ID</th>\n",
       "      <th>Name</th>\n",
       "      <th>CountryCode</th>\n",
       "      <th>District</th>\n",
       "      <th>Population</th>\n",
       "    </tr>\n",
       "  </thead>\n",
       "  <tbody>\n",
       "    <tr>\n",
       "      <th>0</th>\n",
       "      <td>1</td>\n",
       "      <td>Kabul</td>\n",
       "      <td>AFG</td>\n",
       "      <td>Kabol</td>\n",
       "      <td>1780000</td>\n",
       "    </tr>\n",
       "  </tbody>\n",
       "</table>\n",
       "</div>"
      ],
      "text/plain": [
       "   ID   Name CountryCode District  Population\n",
       "0   1  Kabul         AFG    Kabol     1780000"
      ]
     },
     "execution_count": 39,
     "metadata": {},
     "output_type": "execute_result"
    }
   ],
   "source": [
    "#ID\tName\tCountryCode\tDistrict\tPopulation\n",
    "df.head(1)"
   ]
  },
  {
   "cell_type": "code",
   "execution_count": 38,
   "id": "a0fccc98-0fb9-4e9b-9e24-dccb913ddd0a",
   "metadata": {},
   "outputs": [
    {
     "data": {
      "text/html": [
       "<div>\n",
       "<style scoped>\n",
       "    .dataframe tbody tr th:only-of-type {\n",
       "        vertical-align: middle;\n",
       "    }\n",
       "\n",
       "    .dataframe tbody tr th {\n",
       "        vertical-align: top;\n",
       "    }\n",
       "\n",
       "    .dataframe thead th {\n",
       "        text-align: right;\n",
       "    }\n",
       "</style>\n",
       "<table border=\"1\" class=\"dataframe\">\n",
       "  <thead>\n",
       "    <tr style=\"text-align: right;\">\n",
       "      <th></th>\n",
       "      <th>Code</th>\n",
       "      <th>Name</th>\n",
       "      <th>Continent</th>\n",
       "      <th>Region</th>\n",
       "      <th>SurfaceArea</th>\n",
       "      <th>IndepYear</th>\n",
       "      <th>Population</th>\n",
       "      <th>LifeExpectancy</th>\n",
       "      <th>GNP</th>\n",
       "      <th>GNPOld</th>\n",
       "      <th>LocalName</th>\n",
       "      <th>GovernmentForm</th>\n",
       "      <th>HeadOfState</th>\n",
       "      <th>Capital</th>\n",
       "      <th>Code2</th>\n",
       "    </tr>\n",
       "  </thead>\n",
       "  <tbody>\n",
       "    <tr>\n",
       "      <th>0</th>\n",
       "      <td>ABW</td>\n",
       "      <td>Aruba</td>\n",
       "      <td>North America</td>\n",
       "      <td>Caribbean</td>\n",
       "      <td>193.0</td>\n",
       "      <td>NaN</td>\n",
       "      <td>103000</td>\n",
       "      <td>78.4</td>\n",
       "      <td>828.0</td>\n",
       "      <td>793.0</td>\n",
       "      <td>Aruba</td>\n",
       "      <td>Nonmetropolitan Territory of The Netherlands</td>\n",
       "      <td>Beatrix</td>\n",
       "      <td>129.0</td>\n",
       "      <td>AW</td>\n",
       "    </tr>\n",
       "  </tbody>\n",
       "</table>\n",
       "</div>"
      ],
      "text/plain": [
       "  Code   Name      Continent     Region  SurfaceArea  IndepYear  Population  \\\n",
       "0  ABW  Aruba  North America  Caribbean        193.0        NaN      103000   \n",
       "\n",
       "   LifeExpectancy    GNP  GNPOld LocalName  \\\n",
       "0            78.4  828.0   793.0     Aruba   \n",
       "\n",
       "                                 GovernmentForm HeadOfState  Capital Code2  \n",
       "0  Nonmetropolitan Territory of The Netherlands     Beatrix    129.0    AW  "
      ]
     },
     "execution_count": 38,
     "metadata": {},
     "output_type": "execute_result"
    }
   ],
   "source": [
    "#Code\tName\tContinent\tRegion\tSurfaceArea\tIndepYear\tPopulation\tLifeExpectancy\tGNP\tGNPOld\tLocalName\tGovernmentForm\tHeadOfState\tCapital\tCode2\n",
    "df2.head(1)"
   ]
  }
 ],
 "metadata": {
  "kernelspec": {
   "display_name": "Python 3 (ipykernel)",
   "language": "python",
   "name": "python3"
  },
  "language_info": {
   "codemirror_mode": {
    "name": "ipython",
    "version": 3
   },
   "file_extension": ".py",
   "mimetype": "text/x-python",
   "name": "python",
   "nbconvert_exporter": "python",
   "pygments_lexer": "ipython3",
   "version": "3.13.5"
  }
 },
 "nbformat": 4,
 "nbformat_minor": 5
}
